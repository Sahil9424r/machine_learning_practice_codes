{
 "cells": [
  {
   "cell_type": "code",
   "execution_count": 130,
   "id": "822d93fe-94ad-440f-9e21-2fc81ed404b2",
   "metadata": {},
   "outputs": [],
   "source": [
    "import numpy as np\n",
    "import pandas as pd\n",
    "import matplotlib.pyplot as plt\n",
    "from sklearn.model_selection import train_test_split\n",
    "from sklearn.preprocessing import MinMaxScaler,StandardScaler\n"
   ]
  },
  {
   "cell_type": "code",
   "execution_count": 131,
   "id": "f02fbfd6-eabc-4937-9bb1-aafbc5ea7b69",
   "metadata": {},
   "outputs": [
    {
     "data": {
      "text/html": [
       "<div>\n",
       "<style scoped>\n",
       "    .dataframe tbody tr th:only-of-type {\n",
       "        vertical-align: middle;\n",
       "    }\n",
       "\n",
       "    .dataframe tbody tr th {\n",
       "        vertical-align: top;\n",
       "    }\n",
       "\n",
       "    .dataframe thead th {\n",
       "        text-align: right;\n",
       "    }\n",
       "</style>\n",
       "<table border=\"1\" class=\"dataframe\">\n",
       "  <thead>\n",
       "    <tr style=\"text-align: right;\">\n",
       "      <th></th>\n",
       "      <th>Country</th>\n",
       "      <th>Year</th>\n",
       "      <th>Status</th>\n",
       "      <th>Life expectancy</th>\n",
       "      <th>Adult Mortality</th>\n",
       "      <th>infant deaths</th>\n",
       "      <th>Alcohol</th>\n",
       "      <th>percentage expenditure</th>\n",
       "      <th>Hepatitis B</th>\n",
       "      <th>Measles</th>\n",
       "      <th>...</th>\n",
       "      <th>Polio</th>\n",
       "      <th>Total expenditure</th>\n",
       "      <th>Diphtheria</th>\n",
       "      <th>HIV/AIDS</th>\n",
       "      <th>GDP</th>\n",
       "      <th>Population</th>\n",
       "      <th>thinness  1-19 years</th>\n",
       "      <th>thinness 5-9 years</th>\n",
       "      <th>Income composition of resources</th>\n",
       "      <th>Schooling</th>\n",
       "    </tr>\n",
       "  </thead>\n",
       "  <tbody>\n",
       "    <tr>\n",
       "      <th>0</th>\n",
       "      <td>Afghanistan</td>\n",
       "      <td>2015</td>\n",
       "      <td>Developing</td>\n",
       "      <td>65.0</td>\n",
       "      <td>263.0</td>\n",
       "      <td>62</td>\n",
       "      <td>0.01</td>\n",
       "      <td>71.279624</td>\n",
       "      <td>65.0</td>\n",
       "      <td>1154</td>\n",
       "      <td>...</td>\n",
       "      <td>6.0</td>\n",
       "      <td>8.16</td>\n",
       "      <td>65.0</td>\n",
       "      <td>0.1</td>\n",
       "      <td>584.259210</td>\n",
       "      <td>33736494.0</td>\n",
       "      <td>17.2</td>\n",
       "      <td>17.3</td>\n",
       "      <td>0.479</td>\n",
       "      <td>10.1</td>\n",
       "    </tr>\n",
       "    <tr>\n",
       "      <th>1</th>\n",
       "      <td>Afghanistan</td>\n",
       "      <td>2014</td>\n",
       "      <td>Developing</td>\n",
       "      <td>59.9</td>\n",
       "      <td>271.0</td>\n",
       "      <td>64</td>\n",
       "      <td>0.01</td>\n",
       "      <td>73.523582</td>\n",
       "      <td>62.0</td>\n",
       "      <td>492</td>\n",
       "      <td>...</td>\n",
       "      <td>58.0</td>\n",
       "      <td>8.18</td>\n",
       "      <td>62.0</td>\n",
       "      <td>0.1</td>\n",
       "      <td>612.696514</td>\n",
       "      <td>327582.0</td>\n",
       "      <td>17.5</td>\n",
       "      <td>17.5</td>\n",
       "      <td>0.476</td>\n",
       "      <td>10.0</td>\n",
       "    </tr>\n",
       "    <tr>\n",
       "      <th>2</th>\n",
       "      <td>Afghanistan</td>\n",
       "      <td>2013</td>\n",
       "      <td>Developing</td>\n",
       "      <td>59.9</td>\n",
       "      <td>268.0</td>\n",
       "      <td>66</td>\n",
       "      <td>0.01</td>\n",
       "      <td>73.219243</td>\n",
       "      <td>64.0</td>\n",
       "      <td>430</td>\n",
       "      <td>...</td>\n",
       "      <td>62.0</td>\n",
       "      <td>8.13</td>\n",
       "      <td>64.0</td>\n",
       "      <td>0.1</td>\n",
       "      <td>631.744976</td>\n",
       "      <td>31731688.0</td>\n",
       "      <td>17.7</td>\n",
       "      <td>17.7</td>\n",
       "      <td>0.470</td>\n",
       "      <td>9.9</td>\n",
       "    </tr>\n",
       "    <tr>\n",
       "      <th>3</th>\n",
       "      <td>Afghanistan</td>\n",
       "      <td>2012</td>\n",
       "      <td>Developing</td>\n",
       "      <td>59.5</td>\n",
       "      <td>272.0</td>\n",
       "      <td>69</td>\n",
       "      <td>0.01</td>\n",
       "      <td>78.184215</td>\n",
       "      <td>67.0</td>\n",
       "      <td>2787</td>\n",
       "      <td>...</td>\n",
       "      <td>67.0</td>\n",
       "      <td>8.52</td>\n",
       "      <td>67.0</td>\n",
       "      <td>0.1</td>\n",
       "      <td>669.959000</td>\n",
       "      <td>3696958.0</td>\n",
       "      <td>17.9</td>\n",
       "      <td>18.0</td>\n",
       "      <td>0.463</td>\n",
       "      <td>9.8</td>\n",
       "    </tr>\n",
       "    <tr>\n",
       "      <th>4</th>\n",
       "      <td>Afghanistan</td>\n",
       "      <td>2011</td>\n",
       "      <td>Developing</td>\n",
       "      <td>59.2</td>\n",
       "      <td>275.0</td>\n",
       "      <td>71</td>\n",
       "      <td>0.01</td>\n",
       "      <td>7.097109</td>\n",
       "      <td>68.0</td>\n",
       "      <td>3013</td>\n",
       "      <td>...</td>\n",
       "      <td>68.0</td>\n",
       "      <td>7.87</td>\n",
       "      <td>68.0</td>\n",
       "      <td>0.1</td>\n",
       "      <td>63.537231</td>\n",
       "      <td>2978599.0</td>\n",
       "      <td>18.2</td>\n",
       "      <td>18.2</td>\n",
       "      <td>0.454</td>\n",
       "      <td>9.5</td>\n",
       "    </tr>\n",
       "  </tbody>\n",
       "</table>\n",
       "<p>5 rows × 22 columns</p>\n",
       "</div>"
      ],
      "text/plain": [
       "       Country  Year      Status  Life expectancy   Adult Mortality  \\\n",
       "0  Afghanistan  2015  Developing              65.0            263.0   \n",
       "1  Afghanistan  2014  Developing              59.9            271.0   \n",
       "2  Afghanistan  2013  Developing              59.9            268.0   \n",
       "3  Afghanistan  2012  Developing              59.5            272.0   \n",
       "4  Afghanistan  2011  Developing              59.2            275.0   \n",
       "\n",
       "   infant deaths  Alcohol  percentage expenditure  Hepatitis B  Measles   ...  \\\n",
       "0             62     0.01               71.279624         65.0      1154  ...   \n",
       "1             64     0.01               73.523582         62.0       492  ...   \n",
       "2             66     0.01               73.219243         64.0       430  ...   \n",
       "3             69     0.01               78.184215         67.0      2787  ...   \n",
       "4             71     0.01                7.097109         68.0      3013  ...   \n",
       "\n",
       "   Polio  Total expenditure  Diphtheria    HIV/AIDS         GDP  Population  \\\n",
       "0    6.0               8.16         65.0        0.1  584.259210  33736494.0   \n",
       "1   58.0               8.18         62.0        0.1  612.696514    327582.0   \n",
       "2   62.0               8.13         64.0        0.1  631.744976  31731688.0   \n",
       "3   67.0               8.52         67.0        0.1  669.959000   3696958.0   \n",
       "4   68.0               7.87         68.0        0.1   63.537231   2978599.0   \n",
       "\n",
       "    thinness  1-19 years   thinness 5-9 years  \\\n",
       "0                   17.2                 17.3   \n",
       "1                   17.5                 17.5   \n",
       "2                   17.7                 17.7   \n",
       "3                   17.9                 18.0   \n",
       "4                   18.2                 18.2   \n",
       "\n",
       "   Income composition of resources  Schooling  \n",
       "0                            0.479       10.1  \n",
       "1                            0.476       10.0  \n",
       "2                            0.470        9.9  \n",
       "3                            0.463        9.8  \n",
       "4                            0.454        9.5  \n",
       "\n",
       "[5 rows x 22 columns]"
      ]
     },
     "execution_count": 131,
     "metadata": {},
     "output_type": "execute_result"
    }
   ],
   "source": [
    "df=pd.read_csv(\"Life Expectancy Data.csv\")\n",
    "df.head()"
   ]
  },
  {
   "cell_type": "code",
   "execution_count": 132,
   "id": "fb2e1d32-c7b1-41df-9069-3eaa783afaaf",
   "metadata": {
    "scrolled": true
   },
   "outputs": [
    {
     "data": {
      "text/plain": [
       "array(['Afghanistan', 'Albania', 'Algeria', 'Angola',\n",
       "       'Antigua and Barbuda', 'Argentina', 'Armenia', 'Australia',\n",
       "       'Austria', 'Azerbaijan', 'Bahamas', 'Bahrain', 'Bangladesh',\n",
       "       'Barbados', 'Belarus', 'Belgium', 'Belize', 'Benin', 'Bhutan',\n",
       "       'Bolivia (Plurinational State of)', 'Bosnia and Herzegovina',\n",
       "       'Botswana', 'Brazil', 'Brunei Darussalam', 'Bulgaria',\n",
       "       'Burkina Faso', 'Burundi', \"Côte d'Ivoire\", 'Cabo Verde',\n",
       "       'Cambodia', 'Cameroon', 'Canada', 'Central African Republic',\n",
       "       'Chad', 'Chile', 'China', 'Colombia', 'Comoros', 'Congo',\n",
       "       'Cook Islands', 'Costa Rica', 'Croatia', 'Cuba', 'Cyprus',\n",
       "       'Czechia', \"Democratic People's Republic of Korea\",\n",
       "       'Democratic Republic of the Congo', 'Denmark', 'Djibouti',\n",
       "       'Dominica', 'Dominican Republic', 'Ecuador', 'Egypt',\n",
       "       'El Salvador', 'Equatorial Guinea', 'Eritrea', 'Estonia',\n",
       "       'Ethiopia', 'Fiji', 'Finland', 'France', 'Gabon', 'Gambia',\n",
       "       'Georgia', 'Germany', 'Ghana', 'Greece', 'Grenada', 'Guatemala',\n",
       "       'Guinea', 'Guinea-Bissau', 'Guyana', 'Haiti', 'Honduras',\n",
       "       'Hungary', 'Iceland', 'India', 'Indonesia',\n",
       "       'Iran (Islamic Republic of)', 'Iraq', 'Ireland', 'Israel', 'Italy',\n",
       "       'Jamaica', 'Japan', 'Jordan', 'Kazakhstan', 'Kenya', 'Kiribati',\n",
       "       'Kuwait', 'Kyrgyzstan', \"Lao People's Democratic Republic\",\n",
       "       'Latvia', 'Lebanon', 'Lesotho', 'Liberia', 'Libya', 'Lithuania',\n",
       "       'Luxembourg', 'Madagascar', 'Malawi', 'Malaysia', 'Maldives',\n",
       "       'Mali', 'Malta', 'Marshall Islands', 'Mauritania', 'Mauritius',\n",
       "       'Mexico', 'Micronesia (Federated States of)', 'Monaco', 'Mongolia',\n",
       "       'Montenegro', 'Morocco', 'Mozambique', 'Myanmar', 'Namibia',\n",
       "       'Nauru', 'Nepal', 'Netherlands', 'New Zealand', 'Nicaragua',\n",
       "       'Niger', 'Nigeria', 'Niue', 'Norway', 'Oman', 'Pakistan', 'Palau',\n",
       "       'Panama', 'Papua New Guinea', 'Paraguay', 'Peru', 'Philippines',\n",
       "       'Poland', 'Portugal', 'Qatar', 'Republic of Korea',\n",
       "       'Republic of Moldova', 'Romania', 'Russian Federation', 'Rwanda',\n",
       "       'Saint Kitts and Nevis', 'Saint Lucia',\n",
       "       'Saint Vincent and the Grenadines', 'Samoa', 'San Marino',\n",
       "       'Sao Tome and Principe', 'Saudi Arabia', 'Senegal', 'Serbia',\n",
       "       'Seychelles', 'Sierra Leone', 'Singapore', 'Slovakia', 'Slovenia',\n",
       "       'Solomon Islands', 'Somalia', 'South Africa', 'South Sudan',\n",
       "       'Spain', 'Sri Lanka', 'Sudan', 'Suriname', 'Swaziland', 'Sweden',\n",
       "       'Switzerland', 'Syrian Arab Republic', 'Tajikistan', 'Thailand',\n",
       "       'The former Yugoslav republic of Macedonia', 'Timor-Leste', 'Togo',\n",
       "       'Tonga', 'Trinidad and Tobago', 'Tunisia', 'Turkey',\n",
       "       'Turkmenistan', 'Tuvalu', 'Uganda', 'Ukraine',\n",
       "       'United Arab Emirates',\n",
       "       'United Kingdom of Great Britain and Northern Ireland',\n",
       "       'United Republic of Tanzania', 'United States of America',\n",
       "       'Uruguay', 'Uzbekistan', 'Vanuatu',\n",
       "       'Venezuela (Bolivarian Republic of)', 'Viet Nam', 'Yemen',\n",
       "       'Zambia', 'Zimbabwe'], dtype=object)"
      ]
     },
     "execution_count": 132,
     "metadata": {},
     "output_type": "execute_result"
    }
   ],
   "source": [
    "df.Country.unique()"
   ]
  },
  {
   "cell_type": "code",
   "execution_count": 133,
   "id": "dd7a38fe-8471-4579-9a1b-3b8d50f17e48",
   "metadata": {},
   "outputs": [
    {
     "data": {
      "text/plain": [
       "0         0\n",
       "1         0\n",
       "2         0\n",
       "3         0\n",
       "4         0\n",
       "       ... \n",
       "2933    192\n",
       "2934    192\n",
       "2935    192\n",
       "2936    192\n",
       "2937    192\n",
       "Name: Country, Length: 2938, dtype: int32"
      ]
     },
     "execution_count": 133,
     "metadata": {},
     "output_type": "execute_result"
    }
   ],
   "source": [
    "from sklearn.preprocessing import LabelEncoder\n",
    "le=LabelEncoder()\n",
    "df['Country']=le.fit_transform(df['Country'])\n",
    "df.Country"
   ]
  },
  {
   "cell_type": "code",
   "execution_count": 134,
   "id": "f50a3055-d529-40b3-a52e-b2e81f3be500",
   "metadata": {},
   "outputs": [
    {
     "name": "stdout",
     "output_type": "stream",
     "text": [
      "Country\n",
      "0      16\n",
      "132    16\n",
      "121    16\n",
      "122    16\n",
      "123    16\n",
      "       ..\n",
      "124     1\n",
      "146     1\n",
      "117     1\n",
      "142     1\n",
      "49      1\n",
      "Name: count, Length: 193, dtype: int64\n"
     ]
    }
   ],
   "source": [
    "value_counts = df['Country'].value_counts()\n",
    "print(value_counts)"
   ]
  },
  {
   "cell_type": "code",
   "execution_count": 135,
   "id": "41d4b826-f84e-4700-8e2c-e9150948dbfb",
   "metadata": {},
   "outputs": [
    {
     "data": {
      "text/plain": [
       "Country                              int32\n",
       "Year                                 int64\n",
       "Status                              object\n",
       "Life expectancy                    float64\n",
       "Adult Mortality                    float64\n",
       "infant deaths                        int64\n",
       "Alcohol                            float64\n",
       "percentage expenditure             float64\n",
       "Hepatitis B                        float64\n",
       "Measles                              int64\n",
       " BMI                               float64\n",
       "under-five deaths                    int64\n",
       "Polio                              float64\n",
       "Total expenditure                  float64\n",
       "Diphtheria                         float64\n",
       " HIV/AIDS                          float64\n",
       "GDP                                float64\n",
       "Population                         float64\n",
       " thinness  1-19 years              float64\n",
       " thinness 5-9 years                float64\n",
       "Income composition of resources    float64\n",
       "Schooling                          float64\n",
       "dtype: object"
      ]
     },
     "execution_count": 135,
     "metadata": {},
     "output_type": "execute_result"
    }
   ],
   "source": [
    "df.dtypes"
   ]
  },
  {
   "cell_type": "code",
   "execution_count": 136,
   "id": "aa8569c2-d111-400a-9761-93c37a0f7eb3",
   "metadata": {},
   "outputs": [
    {
     "data": {
      "text/plain": [
       "array([2015, 2014, 2013, 2012, 2011, 2010, 2009, 2008, 2007, 2006, 2005,\n",
       "       2004, 2003, 2002, 2001, 2000], dtype=int64)"
      ]
     },
     "execution_count": 136,
     "metadata": {},
     "output_type": "execute_result"
    }
   ],
   "source": [
    "df1=df.drop(\"Status\",axis=\"columns\")\n",
    "# df1.head()\n",
    "df1.Year.unique()"
   ]
  },
  {
   "cell_type": "code",
   "execution_count": 137,
   "id": "a5acd8c1-2fe0-4592-a825-3b925d997dd6",
   "metadata": {},
   "outputs": [
    {
     "data": {
      "text/plain": [
       "0         0\n",
       "16        1\n",
       "32        2\n",
       "48        3\n",
       "64        4\n",
       "       ... \n",
       "2858    188\n",
       "2874    189\n",
       "2890    190\n",
       "2906    191\n",
       "2922    192\n",
       "Name: Country, Length: 193, dtype: int32"
      ]
     },
     "execution_count": 137,
     "metadata": {},
     "output_type": "execute_result"
    }
   ],
   "source": [
    "df2 = df1.drop_duplicates(subset=['Country'])\n",
    "df2.Country\n"
   ]
  },
  {
   "cell_type": "code",
   "execution_count": 138,
   "id": "86a0c70b-c14a-4624-be35-3de3be75818b",
   "metadata": {},
   "outputs": [
    {
     "data": {
      "text/plain": [
       "Country                              0\n",
       "Year                                 0\n",
       "Life expectancy                     10\n",
       "Adult Mortality                     10\n",
       "infant deaths                        0\n",
       "Alcohol                            178\n",
       "percentage expenditure               0\n",
       "Hepatitis B                          9\n",
       "Measles                              0\n",
       " BMI                                 4\n",
       "under-five deaths                    0\n",
       "Polio                                0\n",
       "Total expenditure                  181\n",
       "Diphtheria                           0\n",
       " HIV/AIDS                            0\n",
       "GDP                                 34\n",
       "Population                          49\n",
       " thinness  1-19 years                4\n",
       " thinness 5-9 years                  4\n",
       "Income composition of resources     17\n",
       "Schooling                           13\n",
       "dtype: int64"
      ]
     },
     "execution_count": 138,
     "metadata": {},
     "output_type": "execute_result"
    }
   ],
   "source": [
    "df2.isnull().sum()"
   ]
  },
  {
   "cell_type": "code",
   "execution_count": 139,
   "id": "9115ff40-8596-4c17-8004-1e65384b2be9",
   "metadata": {},
   "outputs": [
    {
     "data": {
      "text/plain": [
       "array([  0,   1,   2,   3,   4,   5,   6,   7,   8,   9,  10,  11,  12,\n",
       "        13,  14,  15,  16,  17,  18,  19,  20,  21,  22,  23,  24,  25,\n",
       "        26,  44,  27,  28,  29,  30,  31,  32,  33,  34,  35,  36,  37,\n",
       "        38,  39,  40,  41,  42,  43,  45,  46,  47,  48,  49,  50,  51,\n",
       "        52,  53,  54,  55,  56,  57,  58,  59,  60,  61,  62,  63,  64,\n",
       "        65,  66,  67,  68,  69,  70,  71,  72,  73,  74,  75,  76,  77,\n",
       "        78,  79,  80,  81,  82,  83,  84,  85,  86,  87,  88,  89,  90,\n",
       "        91,  92,  93,  94,  95,  96,  97,  98,  99, 100, 101, 102, 103,\n",
       "       104, 105, 106, 107, 108, 109, 110, 111, 112, 113, 114, 115, 116,\n",
       "       117, 118, 119, 120, 121, 122, 123, 124, 125, 126, 127, 128, 129,\n",
       "       130, 131, 132, 133, 134, 135, 136, 137, 138, 139, 140, 141, 142,\n",
       "       143, 144, 145, 146, 147, 148, 149, 150, 151, 152, 153, 154, 155,\n",
       "       156, 157, 158, 159, 160, 161, 162, 163, 164, 165, 166, 167, 168,\n",
       "       169, 170, 171, 172, 173, 174, 175, 176, 177, 178, 179, 180, 181,\n",
       "       182, 183, 184, 185, 186, 187, 188, 189, 190, 191, 192])"
      ]
     },
     "execution_count": 139,
     "metadata": {},
     "output_type": "execute_result"
    }
   ],
   "source": [
    "df2.Country.values"
   ]
  },
  {
   "cell_type": "code",
   "execution_count": 140,
   "id": "8745997d-0644-459b-880a-1d338f1a0060",
   "metadata": {},
   "outputs": [
    {
     "data": {
      "text/plain": [
       "Index(['Country', 'Year', 'Life expectancy ', 'Adult Mortality',\n",
       "       'infant deaths', 'Alcohol', 'percentage expenditure', 'Hepatitis B',\n",
       "       'Measles ', ' BMI ', 'under-five deaths ', 'Polio', 'Total expenditure',\n",
       "       'Diphtheria ', ' HIV/AIDS', 'GDP', 'Population',\n",
       "       ' thinness  1-19 years', ' thinness 5-9 years',\n",
       "       'Income composition of resources', 'Schooling'],\n",
       "      dtype='object')"
      ]
     },
     "execution_count": 140,
     "metadata": {},
     "output_type": "execute_result"
    }
   ],
   "source": [
    "df2.columns"
   ]
  },
  {
   "cell_type": "code",
   "execution_count": 141,
   "id": "65b2d020-11c8-41bc-a344-d670f23522d6",
   "metadata": {},
   "outputs": [
    {
     "data": {
      "text/html": [
       "<div>\n",
       "<style scoped>\n",
       "    .dataframe tbody tr th:only-of-type {\n",
       "        vertical-align: middle;\n",
       "    }\n",
       "\n",
       "    .dataframe tbody tr th {\n",
       "        vertical-align: top;\n",
       "    }\n",
       "\n",
       "    .dataframe thead th {\n",
       "        text-align: right;\n",
       "    }\n",
       "</style>\n",
       "<table border=\"1\" class=\"dataframe\">\n",
       "  <thead>\n",
       "    <tr style=\"text-align: right;\">\n",
       "      <th></th>\n",
       "      <th>Country</th>\n",
       "      <th>Life expectancy</th>\n",
       "      <th>Adult Mortality</th>\n",
       "      <th>infant deaths</th>\n",
       "      <th>Hepatitis B</th>\n",
       "      <th>Measles</th>\n",
       "      <th>BMI</th>\n",
       "      <th>under-five deaths</th>\n",
       "      <th>Polio</th>\n",
       "      <th>Diphtheria</th>\n",
       "      <th>HIV/AIDS</th>\n",
       "      <th>GDP</th>\n",
       "      <th>thinness  1-19 years</th>\n",
       "    </tr>\n",
       "  </thead>\n",
       "  <tbody>\n",
       "    <tr>\n",
       "      <th>0</th>\n",
       "      <td>0</td>\n",
       "      <td>65.0</td>\n",
       "      <td>263.0</td>\n",
       "      <td>62</td>\n",
       "      <td>65.0</td>\n",
       "      <td>1154</td>\n",
       "      <td>19.1</td>\n",
       "      <td>83</td>\n",
       "      <td>6.0</td>\n",
       "      <td>65.0</td>\n",
       "      <td>0.1</td>\n",
       "      <td>584.259210</td>\n",
       "      <td>17.2</td>\n",
       "    </tr>\n",
       "    <tr>\n",
       "      <th>16</th>\n",
       "      <td>1</td>\n",
       "      <td>77.8</td>\n",
       "      <td>74.0</td>\n",
       "      <td>0</td>\n",
       "      <td>99.0</td>\n",
       "      <td>0</td>\n",
       "      <td>58.0</td>\n",
       "      <td>0</td>\n",
       "      <td>99.0</td>\n",
       "      <td>99.0</td>\n",
       "      <td>0.1</td>\n",
       "      <td>3954.227830</td>\n",
       "      <td>1.2</td>\n",
       "    </tr>\n",
       "    <tr>\n",
       "      <th>32</th>\n",
       "      <td>2</td>\n",
       "      <td>75.6</td>\n",
       "      <td>19.0</td>\n",
       "      <td>21</td>\n",
       "      <td>95.0</td>\n",
       "      <td>63</td>\n",
       "      <td>59.5</td>\n",
       "      <td>24</td>\n",
       "      <td>95.0</td>\n",
       "      <td>95.0</td>\n",
       "      <td>0.1</td>\n",
       "      <td>4132.762920</td>\n",
       "      <td>6.0</td>\n",
       "    </tr>\n",
       "    <tr>\n",
       "      <th>48</th>\n",
       "      <td>3</td>\n",
       "      <td>52.4</td>\n",
       "      <td>335.0</td>\n",
       "      <td>66</td>\n",
       "      <td>64.0</td>\n",
       "      <td>118</td>\n",
       "      <td>23.3</td>\n",
       "      <td>98</td>\n",
       "      <td>7.0</td>\n",
       "      <td>64.0</td>\n",
       "      <td>1.9</td>\n",
       "      <td>3695.793748</td>\n",
       "      <td>8.3</td>\n",
       "    </tr>\n",
       "    <tr>\n",
       "      <th>64</th>\n",
       "      <td>4</td>\n",
       "      <td>76.4</td>\n",
       "      <td>13.0</td>\n",
       "      <td>0</td>\n",
       "      <td>99.0</td>\n",
       "      <td>0</td>\n",
       "      <td>47.7</td>\n",
       "      <td>0</td>\n",
       "      <td>86.0</td>\n",
       "      <td>99.0</td>\n",
       "      <td>0.2</td>\n",
       "      <td>13566.954100</td>\n",
       "      <td>3.3</td>\n",
       "    </tr>\n",
       "    <tr>\n",
       "      <th>...</th>\n",
       "      <td>...</td>\n",
       "      <td>...</td>\n",
       "      <td>...</td>\n",
       "      <td>...</td>\n",
       "      <td>...</td>\n",
       "      <td>...</td>\n",
       "      <td>...</td>\n",
       "      <td>...</td>\n",
       "      <td>...</td>\n",
       "      <td>...</td>\n",
       "      <td>...</td>\n",
       "      <td>...</td>\n",
       "      <td>...</td>\n",
       "    </tr>\n",
       "    <tr>\n",
       "      <th>2858</th>\n",
       "      <td>188</td>\n",
       "      <td>74.1</td>\n",
       "      <td>157.0</td>\n",
       "      <td>9</td>\n",
       "      <td>87.0</td>\n",
       "      <td>0</td>\n",
       "      <td>62.1</td>\n",
       "      <td>10</td>\n",
       "      <td>87.0</td>\n",
       "      <td>87.0</td>\n",
       "      <td>0.1</td>\n",
       "      <td>NaN</td>\n",
       "      <td>1.6</td>\n",
       "    </tr>\n",
       "    <tr>\n",
       "      <th>2874</th>\n",
       "      <td>189</td>\n",
       "      <td>76.0</td>\n",
       "      <td>127.0</td>\n",
       "      <td>28</td>\n",
       "      <td>97.0</td>\n",
       "      <td>256</td>\n",
       "      <td>17.5</td>\n",
       "      <td>35</td>\n",
       "      <td>97.0</td>\n",
       "      <td>97.0</td>\n",
       "      <td>0.1</td>\n",
       "      <td>NaN</td>\n",
       "      <td>14.2</td>\n",
       "    </tr>\n",
       "    <tr>\n",
       "      <th>2890</th>\n",
       "      <td>190</td>\n",
       "      <td>65.7</td>\n",
       "      <td>224.0</td>\n",
       "      <td>37</td>\n",
       "      <td>69.0</td>\n",
       "      <td>468</td>\n",
       "      <td>41.3</td>\n",
       "      <td>47</td>\n",
       "      <td>63.0</td>\n",
       "      <td>69.0</td>\n",
       "      <td>0.1</td>\n",
       "      <td>NaN</td>\n",
       "      <td>13.6</td>\n",
       "    </tr>\n",
       "    <tr>\n",
       "      <th>2906</th>\n",
       "      <td>191</td>\n",
       "      <td>61.8</td>\n",
       "      <td>33.0</td>\n",
       "      <td>27</td>\n",
       "      <td>9.0</td>\n",
       "      <td>9</td>\n",
       "      <td>23.4</td>\n",
       "      <td>40</td>\n",
       "      <td>9.0</td>\n",
       "      <td>9.0</td>\n",
       "      <td>4.1</td>\n",
       "      <td>1313.889646</td>\n",
       "      <td>6.3</td>\n",
       "    </tr>\n",
       "    <tr>\n",
       "      <th>2922</th>\n",
       "      <td>192</td>\n",
       "      <td>67.0</td>\n",
       "      <td>336.0</td>\n",
       "      <td>22</td>\n",
       "      <td>87.0</td>\n",
       "      <td>0</td>\n",
       "      <td>31.8</td>\n",
       "      <td>32</td>\n",
       "      <td>88.0</td>\n",
       "      <td>87.0</td>\n",
       "      <td>6.2</td>\n",
       "      <td>118.693830</td>\n",
       "      <td>5.6</td>\n",
       "    </tr>\n",
       "  </tbody>\n",
       "</table>\n",
       "<p>193 rows × 13 columns</p>\n",
       "</div>"
      ],
      "text/plain": [
       "      Country  Life expectancy   Adult Mortality  infant deaths  Hepatitis B  \\\n",
       "0           0              65.0            263.0             62         65.0   \n",
       "16          1              77.8             74.0              0         99.0   \n",
       "32          2              75.6             19.0             21         95.0   \n",
       "48          3              52.4            335.0             66         64.0   \n",
       "64          4              76.4             13.0              0         99.0   \n",
       "...       ...               ...              ...            ...          ...   \n",
       "2858      188              74.1            157.0              9         87.0   \n",
       "2874      189              76.0            127.0             28         97.0   \n",
       "2890      190              65.7            224.0             37         69.0   \n",
       "2906      191              61.8             33.0             27          9.0   \n",
       "2922      192              67.0            336.0             22         87.0   \n",
       "\n",
       "      Measles    BMI   under-five deaths   Polio  Diphtheria    HIV/AIDS  \\\n",
       "0         1154   19.1                  83    6.0         65.0        0.1   \n",
       "16           0   58.0                   0   99.0         99.0        0.1   \n",
       "32          63   59.5                  24   95.0         95.0        0.1   \n",
       "48         118   23.3                  98    7.0         64.0        1.9   \n",
       "64           0   47.7                   0   86.0         99.0        0.2   \n",
       "...        ...    ...                 ...    ...          ...        ...   \n",
       "2858         0   62.1                  10   87.0         87.0        0.1   \n",
       "2874       256   17.5                  35   97.0         97.0        0.1   \n",
       "2890       468   41.3                  47   63.0         69.0        0.1   \n",
       "2906         9   23.4                  40    9.0          9.0        4.1   \n",
       "2922         0   31.8                  32   88.0         87.0        6.2   \n",
       "\n",
       "               GDP   thinness  1-19 years  \n",
       "0       584.259210                   17.2  \n",
       "16     3954.227830                    1.2  \n",
       "32     4132.762920                    6.0  \n",
       "48     3695.793748                    8.3  \n",
       "64    13566.954100                    3.3  \n",
       "...            ...                    ...  \n",
       "2858           NaN                    1.6  \n",
       "2874           NaN                   14.2  \n",
       "2890           NaN                   13.6  \n",
       "2906   1313.889646                    6.3  \n",
       "2922    118.693830                    5.6  \n",
       "\n",
       "[193 rows x 13 columns]"
      ]
     },
     "execution_count": 141,
     "metadata": {},
     "output_type": "execute_result"
    }
   ],
   "source": [
    "df3=df2.drop(['Alcohol','percentage expenditure','Total expenditure','Population', 'Income composition of resources', 'Schooling',' thinness 5-9 years', 'Year'],axis='columns')\n",
    "df3"
   ]
  },
  {
   "cell_type": "code",
   "execution_count": 142,
   "id": "3e9b57e2-3cab-40b3-beba-2db8a94835a4",
   "metadata": {},
   "outputs": [
    {
     "data": {
      "text/html": [
       "<div>\n",
       "<style scoped>\n",
       "    .dataframe tbody tr th:only-of-type {\n",
       "        vertical-align: middle;\n",
       "    }\n",
       "\n",
       "    .dataframe tbody tr th {\n",
       "        vertical-align: top;\n",
       "    }\n",
       "\n",
       "    .dataframe thead th {\n",
       "        text-align: right;\n",
       "    }\n",
       "</style>\n",
       "<table border=\"1\" class=\"dataframe\">\n",
       "  <thead>\n",
       "    <tr style=\"text-align: right;\">\n",
       "      <th></th>\n",
       "      <th>Country</th>\n",
       "      <th>Life expectancy</th>\n",
       "      <th>Adult Mortality</th>\n",
       "      <th>infant deaths</th>\n",
       "      <th>Hepatitis B</th>\n",
       "      <th>Measles</th>\n",
       "      <th>BMI</th>\n",
       "      <th>under-five deaths</th>\n",
       "      <th>Polio</th>\n",
       "      <th>Diphtheria</th>\n",
       "      <th>HIV/AIDS</th>\n",
       "      <th>GDP</th>\n",
       "      <th>thinness  1-19 years</th>\n",
       "    </tr>\n",
       "  </thead>\n",
       "  <tbody>\n",
       "    <tr>\n",
       "      <th>0</th>\n",
       "      <td>0</td>\n",
       "      <td>0.650</td>\n",
       "      <td>0.542443</td>\n",
       "      <td>0.068132</td>\n",
       "      <td>0.634409</td>\n",
       "      <td>0.012767</td>\n",
       "      <td>0.195755</td>\n",
       "      <td>0.075455</td>\n",
       "      <td>0.010638</td>\n",
       "      <td>0.634409</td>\n",
       "      <td>0.000000</td>\n",
       "      <td>0.008303</td>\n",
       "      <td>17.2</td>\n",
       "    </tr>\n",
       "    <tr>\n",
       "      <th>16</th>\n",
       "      <td>1</td>\n",
       "      <td>0.778</td>\n",
       "      <td>0.151139</td>\n",
       "      <td>0.000000</td>\n",
       "      <td>1.000000</td>\n",
       "      <td>0.000000</td>\n",
       "      <td>0.654481</td>\n",
       "      <td>0.000000</td>\n",
       "      <td>1.000000</td>\n",
       "      <td>1.000000</td>\n",
       "      <td>0.000000</td>\n",
       "      <td>0.059122</td>\n",
       "      <td>1.2</td>\n",
       "    </tr>\n",
       "    <tr>\n",
       "      <th>32</th>\n",
       "      <td>2</td>\n",
       "      <td>0.756</td>\n",
       "      <td>0.037267</td>\n",
       "      <td>0.023077</td>\n",
       "      <td>0.956989</td>\n",
       "      <td>0.000697</td>\n",
       "      <td>0.672170</td>\n",
       "      <td>0.021818</td>\n",
       "      <td>0.957447</td>\n",
       "      <td>0.956989</td>\n",
       "      <td>0.000000</td>\n",
       "      <td>0.061814</td>\n",
       "      <td>6.0</td>\n",
       "    </tr>\n",
       "    <tr>\n",
       "      <th>48</th>\n",
       "      <td>3</td>\n",
       "      <td>0.524</td>\n",
       "      <td>0.691511</td>\n",
       "      <td>0.072527</td>\n",
       "      <td>0.623656</td>\n",
       "      <td>0.001305</td>\n",
       "      <td>0.245283</td>\n",
       "      <td>0.089091</td>\n",
       "      <td>0.021277</td>\n",
       "      <td>0.623656</td>\n",
       "      <td>0.195652</td>\n",
       "      <td>0.055225</td>\n",
       "      <td>8.3</td>\n",
       "    </tr>\n",
       "    <tr>\n",
       "      <th>64</th>\n",
       "      <td>4</td>\n",
       "      <td>0.764</td>\n",
       "      <td>0.024845</td>\n",
       "      <td>0.000000</td>\n",
       "      <td>1.000000</td>\n",
       "      <td>0.000000</td>\n",
       "      <td>0.533019</td>\n",
       "      <td>0.000000</td>\n",
       "      <td>0.861702</td>\n",
       "      <td>1.000000</td>\n",
       "      <td>0.010870</td>\n",
       "      <td>0.204082</td>\n",
       "      <td>3.3</td>\n",
       "    </tr>\n",
       "  </tbody>\n",
       "</table>\n",
       "</div>"
      ],
      "text/plain": [
       "    Country  Life expectancy   Adult Mortality  infant deaths  Hepatitis B  \\\n",
       "0         0             0.650         0.542443       0.068132     0.634409   \n",
       "16        1             0.778         0.151139       0.000000     1.000000   \n",
       "32        2             0.756         0.037267       0.023077     0.956989   \n",
       "48        3             0.524         0.691511       0.072527     0.623656   \n",
       "64        4             0.764         0.024845       0.000000     1.000000   \n",
       "\n",
       "    Measles       BMI   under-five deaths      Polio  Diphtheria    HIV/AIDS  \\\n",
       "0   0.012767  0.195755            0.075455  0.010638     0.634409   0.000000   \n",
       "16  0.000000  0.654481            0.000000  1.000000     1.000000   0.000000   \n",
       "32  0.000697  0.672170            0.021818  0.957447     0.956989   0.000000   \n",
       "48  0.001305  0.245283            0.089091  0.021277     0.623656   0.195652   \n",
       "64  0.000000  0.533019            0.000000  0.861702     1.000000   0.010870   \n",
       "\n",
       "         GDP   thinness  1-19 years  \n",
       "0   0.008303                   17.2  \n",
       "16  0.059122                    1.2  \n",
       "32  0.061814                    6.0  \n",
       "48  0.055225                    8.3  \n",
       "64  0.204082                    3.3  "
      ]
     },
     "execution_count": 142,
     "metadata": {},
     "output_type": "execute_result"
    }
   ],
   "source": [
    "columns_to_scale = ['GDP','Measles ','Adult Mortality','infant deaths', 'Hepatitis B',' BMI ','under-five deaths ','Polio', 'Diphtheria ', ' HIV/AIDS']\n",
    "scaler = MinMaxScaler()\n",
    "df3['Life expectancy ']=df3['Life expectancy ']/100\n",
    "\n",
    "df3[columns_to_scale] = scaler.fit_transform(df3[columns_to_scale])\n",
    "\n",
    "df3.head()"
   ]
  },
  {
   "cell_type": "code",
   "execution_count": 143,
   "id": "0640a008-ced1-4581-a668-41bdf6ca5cc5",
   "metadata": {},
   "outputs": [
    {
     "data": {
      "text/plain": [
       "Country                   0\n",
       "Life expectancy          10\n",
       "Adult Mortality          10\n",
       "infant deaths             0\n",
       "Hepatitis B               9\n",
       "Measles                   0\n",
       " BMI                      4\n",
       "under-five deaths         0\n",
       "Polio                     0\n",
       "Diphtheria                0\n",
       " HIV/AIDS                 0\n",
       "GDP                      34\n",
       " thinness  1-19 years     4\n",
       "dtype: int64"
      ]
     },
     "execution_count": 143,
     "metadata": {},
     "output_type": "execute_result"
    }
   ],
   "source": [
    "df3.isnull().sum()"
   ]
  },
  {
   "cell_type": "code",
   "execution_count": 144,
   "id": "0e4e9a4e-a54b-49b6-9b34-98a2d7b1fd73",
   "metadata": {},
   "outputs": [
    {
     "data": {
      "text/html": [
       "<div>\n",
       "<style scoped>\n",
       "    .dataframe tbody tr th:only-of-type {\n",
       "        vertical-align: middle;\n",
       "    }\n",
       "\n",
       "    .dataframe tbody tr th {\n",
       "        vertical-align: top;\n",
       "    }\n",
       "\n",
       "    .dataframe thead th {\n",
       "        text-align: right;\n",
       "    }\n",
       "</style>\n",
       "<table border=\"1\" class=\"dataframe\">\n",
       "  <thead>\n",
       "    <tr style=\"text-align: right;\">\n",
       "      <th></th>\n",
       "      <th>Country</th>\n",
       "      <th>Life expectancy</th>\n",
       "      <th>Adult Mortality</th>\n",
       "      <th>infant deaths</th>\n",
       "      <th>Hepatitis B</th>\n",
       "      <th>Measles</th>\n",
       "      <th>BMI</th>\n",
       "      <th>under-five deaths</th>\n",
       "      <th>Polio</th>\n",
       "      <th>Diphtheria</th>\n",
       "      <th>HIV/AIDS</th>\n",
       "      <th>GDP</th>\n",
       "      <th>thinness  1-19 years</th>\n",
       "    </tr>\n",
       "  </thead>\n",
       "  <tbody>\n",
       "    <tr>\n",
       "      <th>0</th>\n",
       "      <td>0</td>\n",
       "      <td>0.650</td>\n",
       "      <td>0.542443</td>\n",
       "      <td>0.068132</td>\n",
       "      <td>0.634409</td>\n",
       "      <td>0.012767</td>\n",
       "      <td>0.195755</td>\n",
       "      <td>0.075455</td>\n",
       "      <td>0.010638</td>\n",
       "      <td>0.634409</td>\n",
       "      <td>0.000000</td>\n",
       "      <td>0.008303</td>\n",
       "      <td>17.2</td>\n",
       "    </tr>\n",
       "    <tr>\n",
       "      <th>16</th>\n",
       "      <td>1</td>\n",
       "      <td>0.778</td>\n",
       "      <td>0.151139</td>\n",
       "      <td>0.000000</td>\n",
       "      <td>1.000000</td>\n",
       "      <td>0.000000</td>\n",
       "      <td>0.654481</td>\n",
       "      <td>0.000000</td>\n",
       "      <td>1.000000</td>\n",
       "      <td>1.000000</td>\n",
       "      <td>0.000000</td>\n",
       "      <td>0.059122</td>\n",
       "      <td>1.2</td>\n",
       "    </tr>\n",
       "    <tr>\n",
       "      <th>32</th>\n",
       "      <td>2</td>\n",
       "      <td>0.756</td>\n",
       "      <td>0.037267</td>\n",
       "      <td>0.023077</td>\n",
       "      <td>0.956989</td>\n",
       "      <td>0.000697</td>\n",
       "      <td>0.672170</td>\n",
       "      <td>0.021818</td>\n",
       "      <td>0.957447</td>\n",
       "      <td>0.956989</td>\n",
       "      <td>0.000000</td>\n",
       "      <td>0.061814</td>\n",
       "      <td>6.0</td>\n",
       "    </tr>\n",
       "    <tr>\n",
       "      <th>48</th>\n",
       "      <td>3</td>\n",
       "      <td>0.524</td>\n",
       "      <td>0.691511</td>\n",
       "      <td>0.072527</td>\n",
       "      <td>0.623656</td>\n",
       "      <td>0.001305</td>\n",
       "      <td>0.245283</td>\n",
       "      <td>0.089091</td>\n",
       "      <td>0.021277</td>\n",
       "      <td>0.623656</td>\n",
       "      <td>0.195652</td>\n",
       "      <td>0.055225</td>\n",
       "      <td>8.3</td>\n",
       "    </tr>\n",
       "    <tr>\n",
       "      <th>64</th>\n",
       "      <td>4</td>\n",
       "      <td>0.764</td>\n",
       "      <td>0.024845</td>\n",
       "      <td>0.000000</td>\n",
       "      <td>1.000000</td>\n",
       "      <td>0.000000</td>\n",
       "      <td>0.533019</td>\n",
       "      <td>0.000000</td>\n",
       "      <td>0.861702</td>\n",
       "      <td>1.000000</td>\n",
       "      <td>0.010870</td>\n",
       "      <td>0.204082</td>\n",
       "      <td>3.3</td>\n",
       "    </tr>\n",
       "  </tbody>\n",
       "</table>\n",
       "</div>"
      ],
      "text/plain": [
       "    Country  Life expectancy   Adult Mortality  infant deaths  Hepatitis B  \\\n",
       "0         0             0.650         0.542443       0.068132     0.634409   \n",
       "16        1             0.778         0.151139       0.000000     1.000000   \n",
       "32        2             0.756         0.037267       0.023077     0.956989   \n",
       "48        3             0.524         0.691511       0.072527     0.623656   \n",
       "64        4             0.764         0.024845       0.000000     1.000000   \n",
       "\n",
       "    Measles       BMI   under-five deaths      Polio  Diphtheria    HIV/AIDS  \\\n",
       "0   0.012767  0.195755            0.075455  0.010638     0.634409   0.000000   \n",
       "16  0.000000  0.654481            0.000000  1.000000     1.000000   0.000000   \n",
       "32  0.000697  0.672170            0.021818  0.957447     0.956989   0.000000   \n",
       "48  0.001305  0.245283            0.089091  0.021277     0.623656   0.195652   \n",
       "64  0.000000  0.533019            0.000000  0.861702     1.000000   0.010870   \n",
       "\n",
       "         GDP   thinness  1-19 years  \n",
       "0   0.008303                   17.2  \n",
       "16  0.059122                    1.2  \n",
       "32  0.061814                    6.0  \n",
       "48  0.055225                    8.3  \n",
       "64  0.204082                    3.3  "
      ]
     },
     "execution_count": 144,
     "metadata": {},
     "output_type": "execute_result"
    }
   ],
   "source": [
    "# df3['GDP'].fillna(df3.GDP.mean(),inplace=True)\n",
    "# df3[' thinness  1-19 years'].fillna(df3.GDP.mean(),inplace=True)\n",
    "df3.fillna(df3.mean(), inplace=True)\n",
    "df3.head()\n"
   ]
  },
  {
   "cell_type": "code",
   "execution_count": 145,
   "id": "b65b242a-1995-41c4-bd8f-cc92c4ba216d",
   "metadata": {},
   "outputs": [
    {
     "data": {
      "text/plain": [
       "Country                  0\n",
       "Life expectancy          0\n",
       "Adult Mortality          0\n",
       "infant deaths            0\n",
       "Hepatitis B              0\n",
       "Measles                  0\n",
       " BMI                     0\n",
       "under-five deaths        0\n",
       "Polio                    0\n",
       "Diphtheria               0\n",
       " HIV/AIDS                0\n",
       "GDP                      0\n",
       " thinness  1-19 years    0\n",
       "dtype: int64"
      ]
     },
     "execution_count": 145,
     "metadata": {},
     "output_type": "execute_result"
    }
   ],
   "source": [
    "df3.isnull().sum()"
   ]
  },
  {
   "cell_type": "code",
   "execution_count": 146,
   "id": "ce15f220-5b1f-4d18-b9fc-171e4bdba9a9",
   "metadata": {},
   "outputs": [],
   "source": [
    "x=df3.drop('Life expectancy ',axis='columns')\n",
    "y=df3['Life expectancy ']"
   ]
  },
  {
   "cell_type": "code",
   "execution_count": 147,
   "id": "eddb5b5c-48d1-46bf-bd88-d12e1e9f8519",
   "metadata": {},
   "outputs": [
    {
     "data": {
      "text/html": [
       "<div>\n",
       "<style scoped>\n",
       "    .dataframe tbody tr th:only-of-type {\n",
       "        vertical-align: middle;\n",
       "    }\n",
       "\n",
       "    .dataframe tbody tr th {\n",
       "        vertical-align: top;\n",
       "    }\n",
       "\n",
       "    .dataframe thead th {\n",
       "        text-align: right;\n",
       "    }\n",
       "</style>\n",
       "<table border=\"1\" class=\"dataframe\">\n",
       "  <thead>\n",
       "    <tr style=\"text-align: right;\">\n",
       "      <th></th>\n",
       "      <th>Country</th>\n",
       "      <th>Adult Mortality</th>\n",
       "      <th>infant deaths</th>\n",
       "      <th>Hepatitis B</th>\n",
       "      <th>Measles</th>\n",
       "      <th>BMI</th>\n",
       "      <th>under-five deaths</th>\n",
       "      <th>Polio</th>\n",
       "      <th>Diphtheria</th>\n",
       "      <th>HIV/AIDS</th>\n",
       "      <th>GDP</th>\n",
       "      <th>thinness  1-19 years</th>\n",
       "    </tr>\n",
       "  </thead>\n",
       "  <tbody>\n",
       "    <tr>\n",
       "      <th>0</th>\n",
       "      <td>0</td>\n",
       "      <td>0.542443</td>\n",
       "      <td>0.068132</td>\n",
       "      <td>0.634409</td>\n",
       "      <td>0.012767</td>\n",
       "      <td>0.195755</td>\n",
       "      <td>0.075455</td>\n",
       "      <td>0.010638</td>\n",
       "      <td>0.634409</td>\n",
       "      <td>0.000000</td>\n",
       "      <td>0.008303</td>\n",
       "      <td>17.2</td>\n",
       "    </tr>\n",
       "    <tr>\n",
       "      <th>16</th>\n",
       "      <td>1</td>\n",
       "      <td>0.151139</td>\n",
       "      <td>0.000000</td>\n",
       "      <td>1.000000</td>\n",
       "      <td>0.000000</td>\n",
       "      <td>0.654481</td>\n",
       "      <td>0.000000</td>\n",
       "      <td>1.000000</td>\n",
       "      <td>1.000000</td>\n",
       "      <td>0.000000</td>\n",
       "      <td>0.059122</td>\n",
       "      <td>1.2</td>\n",
       "    </tr>\n",
       "    <tr>\n",
       "      <th>32</th>\n",
       "      <td>2</td>\n",
       "      <td>0.037267</td>\n",
       "      <td>0.023077</td>\n",
       "      <td>0.956989</td>\n",
       "      <td>0.000697</td>\n",
       "      <td>0.672170</td>\n",
       "      <td>0.021818</td>\n",
       "      <td>0.957447</td>\n",
       "      <td>0.956989</td>\n",
       "      <td>0.000000</td>\n",
       "      <td>0.061814</td>\n",
       "      <td>6.0</td>\n",
       "    </tr>\n",
       "    <tr>\n",
       "      <th>48</th>\n",
       "      <td>3</td>\n",
       "      <td>0.691511</td>\n",
       "      <td>0.072527</td>\n",
       "      <td>0.623656</td>\n",
       "      <td>0.001305</td>\n",
       "      <td>0.245283</td>\n",
       "      <td>0.089091</td>\n",
       "      <td>0.021277</td>\n",
       "      <td>0.623656</td>\n",
       "      <td>0.195652</td>\n",
       "      <td>0.055225</td>\n",
       "      <td>8.3</td>\n",
       "    </tr>\n",
       "    <tr>\n",
       "      <th>64</th>\n",
       "      <td>4</td>\n",
       "      <td>0.024845</td>\n",
       "      <td>0.000000</td>\n",
       "      <td>1.000000</td>\n",
       "      <td>0.000000</td>\n",
       "      <td>0.533019</td>\n",
       "      <td>0.000000</td>\n",
       "      <td>0.861702</td>\n",
       "      <td>1.000000</td>\n",
       "      <td>0.010870</td>\n",
       "      <td>0.204082</td>\n",
       "      <td>3.3</td>\n",
       "    </tr>\n",
       "  </tbody>\n",
       "</table>\n",
       "</div>"
      ],
      "text/plain": [
       "    Country  Adult Mortality  infant deaths  Hepatitis B  Measles       BMI   \\\n",
       "0         0         0.542443       0.068132     0.634409  0.012767  0.195755   \n",
       "16        1         0.151139       0.000000     1.000000  0.000000  0.654481   \n",
       "32        2         0.037267       0.023077     0.956989  0.000697  0.672170   \n",
       "48        3         0.691511       0.072527     0.623656  0.001305  0.245283   \n",
       "64        4         0.024845       0.000000     1.000000  0.000000  0.533019   \n",
       "\n",
       "    under-five deaths      Polio  Diphtheria    HIV/AIDS       GDP  \\\n",
       "0             0.075455  0.010638     0.634409   0.000000  0.008303   \n",
       "16            0.000000  1.000000     1.000000   0.000000  0.059122   \n",
       "32            0.021818  0.957447     0.956989   0.000000  0.061814   \n",
       "48            0.089091  0.021277     0.623656   0.195652  0.055225   \n",
       "64            0.000000  0.861702     1.000000   0.010870  0.204082   \n",
       "\n",
       "     thinness  1-19 years  \n",
       "0                    17.2  \n",
       "16                    1.2  \n",
       "32                    6.0  \n",
       "48                    8.3  \n",
       "64                    3.3  "
      ]
     },
     "execution_count": 147,
     "metadata": {},
     "output_type": "execute_result"
    }
   ],
   "source": [
    "x.head()"
   ]
  },
  {
   "cell_type": "code",
   "execution_count": 148,
   "id": "82ac238f-79fd-4f30-bc79-9e53dfca1a0c",
   "metadata": {},
   "outputs": [
    {
     "data": {
      "text/plain": [
       "0     0.650\n",
       "16    0.778\n",
       "32    0.756\n",
       "48    0.524\n",
       "64    0.764\n",
       "Name: Life expectancy , dtype: float64"
      ]
     },
     "execution_count": 148,
     "metadata": {},
     "output_type": "execute_result"
    }
   ],
   "source": [
    "y.head()"
   ]
  },
  {
   "cell_type": "code",
   "execution_count": 149,
   "id": "3fce319c-7bc8-4684-a50e-e2224b3a193e",
   "metadata": {},
   "outputs": [],
   "source": [
    "from sklearn.linear_model import LinearRegression\n",
    "from sklearn.model_selection import cross_val_score\n",
    "from sklearn.tree import DecisionTreeRegressor\n",
    "from sklearn.ensemble import RandomForestRegressor\n",
    "from sklearn.svm import SVR\n",
    "x_train,x_test,y_train,y_test=train_test_split(x,y,test_size=0.2, random_state=42)"
   ]
  },
  {
   "cell_type": "code",
   "execution_count": 150,
   "id": "2c69d410-eec4-4e67-a4ce-cefb6ebfb988",
   "metadata": {},
   "outputs": [
    {
     "data": {
      "text/plain": [
       "0.41287950121489236"
      ]
     },
     "execution_count": 150,
     "metadata": {},
     "output_type": "execute_result"
    }
   ],
   "source": [
    "s=cross_val_score(LinearRegression(),x_train,y_train)\n",
    "np.average(s)"
   ]
  },
  {
   "cell_type": "code",
   "execution_count": 151,
   "id": "540b51ef-e2d9-4619-9406-9d193706dc9c",
   "metadata": {},
   "outputs": [
    {
     "data": {
      "text/plain": [
       "0.7885684247616666"
      ]
     },
     "execution_count": 151,
     "metadata": {},
     "output_type": "execute_result"
    }
   ],
   "source": [
    "\n",
    "s1=cross_val_score(DecisionTreeRegressor(),x_train,y_train)\n",
    "np.average(s1)"
   ]
  },
  {
   "cell_type": "code",
   "execution_count": 152,
   "id": "85d9b8e2-c486-4338-83c7-812273f9b4f2",
   "metadata": {},
   "outputs": [
    {
     "data": {
      "text/plain": [
       "0.8832360176403939"
      ]
     },
     "execution_count": 152,
     "metadata": {},
     "output_type": "execute_result"
    }
   ],
   "source": [
    "s2=cross_val_score(RandomForestRegressor(n_estimators=100),x_train,y_train)\n",
    "np.average(s2)"
   ]
  },
  {
   "cell_type": "code",
   "execution_count": 153,
   "id": "356f9450-3ef9-437f-a6ee-acf656e7f2a3",
   "metadata": {},
   "outputs": [
    {
     "data": {
      "text/plain": [
       "{'n_estimators': 40}"
      ]
     },
     "execution_count": 153,
     "metadata": {},
     "output_type": "execute_result"
    }
   ],
   "source": [
    "from sklearn.model_selection import GridSearchCV\n",
    "clf = GridSearchCV(RandomForestRegressor(), {\n",
    "    'n_estimators':[10,20,30,40,50,60,70,80,90,100],\n",
    "}, cv=5, return_train_score=False)\n",
    "clf.fit(x_train,y_train)\n",
    "clf.best_params_"
   ]
  },
  {
   "cell_type": "code",
   "execution_count": 154,
   "id": "118793e5-caf6-4ec5-a5ad-3573468789bc",
   "metadata": {},
   "outputs": [
    {
     "data": {
      "text/plain": [
       "0.8775108993255971"
      ]
     },
     "execution_count": 154,
     "metadata": {},
     "output_type": "execute_result"
    }
   ],
   "source": [
    "s21=cross_val_score(RandomForestRegressor(n_estimators=70),x_train,y_train)\n",
    "np.average(s21)"
   ]
  },
  {
   "cell_type": "code",
   "execution_count": 155,
   "id": "aeec9c0c-b908-4e3e-a7b7-63c902533b2f",
   "metadata": {},
   "outputs": [
    {
     "data": {
      "text/html": [
       "<style>#sk-container-id-2 {color: black;}#sk-container-id-2 pre{padding: 0;}#sk-container-id-2 div.sk-toggleable {background-color: white;}#sk-container-id-2 label.sk-toggleable__label {cursor: pointer;display: block;width: 100%;margin-bottom: 0;padding: 0.3em;box-sizing: border-box;text-align: center;}#sk-container-id-2 label.sk-toggleable__label-arrow:before {content: \"▸\";float: left;margin-right: 0.25em;color: #696969;}#sk-container-id-2 label.sk-toggleable__label-arrow:hover:before {color: black;}#sk-container-id-2 div.sk-estimator:hover label.sk-toggleable__label-arrow:before {color: black;}#sk-container-id-2 div.sk-toggleable__content {max-height: 0;max-width: 0;overflow: hidden;text-align: left;background-color: #f0f8ff;}#sk-container-id-2 div.sk-toggleable__content pre {margin: 0.2em;color: black;border-radius: 0.25em;background-color: #f0f8ff;}#sk-container-id-2 input.sk-toggleable__control:checked~div.sk-toggleable__content {max-height: 200px;max-width: 100%;overflow: auto;}#sk-container-id-2 input.sk-toggleable__control:checked~label.sk-toggleable__label-arrow:before {content: \"▾\";}#sk-container-id-2 div.sk-estimator input.sk-toggleable__control:checked~label.sk-toggleable__label {background-color: #d4ebff;}#sk-container-id-2 div.sk-label input.sk-toggleable__control:checked~label.sk-toggleable__label {background-color: #d4ebff;}#sk-container-id-2 input.sk-hidden--visually {border: 0;clip: rect(1px 1px 1px 1px);clip: rect(1px, 1px, 1px, 1px);height: 1px;margin: -1px;overflow: hidden;padding: 0;position: absolute;width: 1px;}#sk-container-id-2 div.sk-estimator {font-family: monospace;background-color: #f0f8ff;border: 1px dotted black;border-radius: 0.25em;box-sizing: border-box;margin-bottom: 0.5em;}#sk-container-id-2 div.sk-estimator:hover {background-color: #d4ebff;}#sk-container-id-2 div.sk-parallel-item::after {content: \"\";width: 100%;border-bottom: 1px solid gray;flex-grow: 1;}#sk-container-id-2 div.sk-label:hover label.sk-toggleable__label {background-color: #d4ebff;}#sk-container-id-2 div.sk-serial::before {content: \"\";position: absolute;border-left: 1px solid gray;box-sizing: border-box;top: 0;bottom: 0;left: 50%;z-index: 0;}#sk-container-id-2 div.sk-serial {display: flex;flex-direction: column;align-items: center;background-color: white;padding-right: 0.2em;padding-left: 0.2em;position: relative;}#sk-container-id-2 div.sk-item {position: relative;z-index: 1;}#sk-container-id-2 div.sk-parallel {display: flex;align-items: stretch;justify-content: center;background-color: white;position: relative;}#sk-container-id-2 div.sk-item::before, #sk-container-id-2 div.sk-parallel-item::before {content: \"\";position: absolute;border-left: 1px solid gray;box-sizing: border-box;top: 0;bottom: 0;left: 50%;z-index: -1;}#sk-container-id-2 div.sk-parallel-item {display: flex;flex-direction: column;z-index: 1;position: relative;background-color: white;}#sk-container-id-2 div.sk-parallel-item:first-child::after {align-self: flex-end;width: 50%;}#sk-container-id-2 div.sk-parallel-item:last-child::after {align-self: flex-start;width: 50%;}#sk-container-id-2 div.sk-parallel-item:only-child::after {width: 0;}#sk-container-id-2 div.sk-dashed-wrapped {border: 1px dashed gray;margin: 0 0.4em 0.5em 0.4em;box-sizing: border-box;padding-bottom: 0.4em;background-color: white;}#sk-container-id-2 div.sk-label label {font-family: monospace;font-weight: bold;display: inline-block;line-height: 1.2em;}#sk-container-id-2 div.sk-label-container {text-align: center;}#sk-container-id-2 div.sk-container {/* jupyter's `normalize.less` sets `[hidden] { display: none; }` but bootstrap.min.css set `[hidden] { display: none !important; }` so we also need the `!important` here to be able to override the default hidden behavior on the sphinx rendered scikit-learn.org. See: https://github.com/scikit-learn/scikit-learn/issues/21755 */display: inline-block !important;position: relative;}#sk-container-id-2 div.sk-text-repr-fallback {display: none;}</style><div id=\"sk-container-id-2\" class=\"sk-top-container\"><div class=\"sk-text-repr-fallback\"><pre>RandomForestRegressor(n_estimators=70)</pre><b>In a Jupyter environment, please rerun this cell to show the HTML representation or trust the notebook. <br />On GitHub, the HTML representation is unable to render, please try loading this page with nbviewer.org.</b></div><div class=\"sk-container\" hidden><div class=\"sk-item\"><div class=\"sk-estimator sk-toggleable\"><input class=\"sk-toggleable__control sk-hidden--visually\" id=\"sk-estimator-id-2\" type=\"checkbox\" checked><label for=\"sk-estimator-id-2\" class=\"sk-toggleable__label sk-toggleable__label-arrow\">RandomForestRegressor</label><div class=\"sk-toggleable__content\"><pre>RandomForestRegressor(n_estimators=70)</pre></div></div></div></div></div>"
      ],
      "text/plain": [
       "RandomForestRegressor(n_estimators=70)"
      ]
     },
     "execution_count": 155,
     "metadata": {},
     "output_type": "execute_result"
    }
   ],
   "source": [
    "model=RandomForestRegressor(n_estimators=70)\n",
    "model.fit(x_train,y_train)"
   ]
  },
  {
   "cell_type": "code",
   "execution_count": 156,
   "id": "fde9854f-1241-4d4e-a5b1-43ce369f5582",
   "metadata": {},
   "outputs": [
    {
     "data": {
      "text/plain": [
       "array([0.74625254, 0.80412857, 0.67344286, 0.72124426, 0.75937143,\n",
       "       0.59898571, 0.82624286, 0.64708571, 0.71055012, 0.74984528,\n",
       "       0.76185714, 0.77532857, 0.80848571, 0.6414    , 0.79507143,\n",
       "       0.56525714, 0.71796799, 0.60692857, 0.7047644 , 0.65532857,\n",
       "       0.61345714, 0.81938571, 0.68205012, 0.8126    , 0.74684528,\n",
       "       0.65915714, 0.74980484, 0.57804286, 0.81591429, 0.71677307,\n",
       "       0.54582857, 0.66542857, 0.7069644 , 0.72106924, 0.72999563,\n",
       "       0.78922857, 0.79077143, 0.74722155, 0.82785714])"
      ]
     },
     "execution_count": 156,
     "metadata": {},
     "output_type": "execute_result"
    }
   ],
   "source": [
    "pred=model.predict(x_test)\n",
    "pred"
   ]
  },
  {
   "cell_type": "code",
   "execution_count": 157,
   "id": "be849888-0df2-46be-9549-b07948d6d6f7",
   "metadata": {},
   "outputs": [
    {
     "data": {
      "text/plain": [
       "0.8662497990473288"
      ]
     },
     "execution_count": 157,
     "metadata": {},
     "output_type": "execute_result"
    }
   ],
   "source": [
    "from sklearn.metrics import confusion_matrix\n",
    "model.score(x_test,y_test)"
   ]
  },
  {
   "cell_type": "code",
   "execution_count": 158,
   "id": "50126cb5-91db-46b8-99b2-bb8ddb7f6a18",
   "metadata": {},
   "outputs": [
    {
     "data": {
      "text/plain": [
       "0.9576822326203617"
      ]
     },
     "execution_count": 158,
     "metadata": {},
     "output_type": "execute_result"
    }
   ],
   "source": [
    "model.score(x,y)"
   ]
  },
  {
   "cell_type": "code",
   "execution_count": 159,
   "id": "96f7e21d-1ebb-4495-914b-fb00077cd5b3",
   "metadata": {},
   "outputs": [
    {
     "data": {
      "text/plain": [
       "0.9835021176848722"
      ]
     },
     "execution_count": 159,
     "metadata": {},
     "output_type": "execute_result"
    }
   ],
   "source": [
    "model.score(x_train,y_train)"
   ]
  },
  {
   "cell_type": "code",
   "execution_count": 165,
   "id": "6faf5d1e-c349-4ea3-a5ac-c22b3b2059fa",
   "metadata": {},
   "outputs": [
    {
     "data": {
      "text/plain": [
       "39"
      ]
     },
     "execution_count": 165,
     "metadata": {},
     "output_type": "execute_result"
    }
   ],
   "source": [
    "len(y_test)"
   ]
  },
  {
   "cell_type": "code",
   "execution_count": 161,
   "id": "255ace82-0077-4b4a-83ed-cdc26ae8768a",
   "metadata": {
    "collapsed": true,
    "jupyter": {
     "outputs_hidden": true
    }
   },
   "outputs": [
    {
     "data": {
      "text/plain": [
       "[0.76,\n",
       " 0.823,\n",
       " 0.6829999999999999,\n",
       " 0.732,\n",
       " 0.743,\n",
       " 0.51,\n",
       " 0.8109999999999999,\n",
       " 0.698,\n",
       " 0.71,\n",
       " 0.727,\n",
       " 0.755,\n",
       " 0.7609999999999999,\n",
       " 0.81,\n",
       " 0.624,\n",
       " 0.767,\n",
       " 0.573,\n",
       " 0.7161693989071038,\n",
       " 0.59,\n",
       " 0.688,\n",
       " 0.7190000000000001,\n",
       " 0.629,\n",
       " 0.8109999999999999,\n",
       " 0.6920000000000001,\n",
       " 0.82,\n",
       " 0.736,\n",
       " 0.6659999999999999,\n",
       " 0.745,\n",
       " 0.573,\n",
       " 0.8240000000000001,\n",
       " 0.7161693989071038,\n",
       " 0.5760000000000001,\n",
       " 0.645,\n",
       " 0.77,\n",
       " 0.711,\n",
       " 0.6829999999999999,\n",
       " 0.763,\n",
       " 0.88,\n",
       " 0.752,\n",
       " 0.8340000000000001]"
      ]
     },
     "execution_count": 161,
     "metadata": {},
     "output_type": "execute_result"
    }
   ],
   "source": [
    "y_test"
   ]
  },
  {
   "cell_type": "code",
   "execution_count": 1,
   "id": "1950294f-848d-415f-bbc5-12b41ba7be1e",
   "metadata": {},
   "outputs": [],
   "source": [
    "import pickle\n"
   ]
  },
  {
   "cell_type": "code",
   "execution_count": null,
   "id": "33956cf5-0081-4524-8a38-1aa5efccb7da",
   "metadata": {},
   "outputs": [],
   "source": []
  }
 ],
 "metadata": {
  "kernelspec": {
   "display_name": "Python 3 (ipykernel)",
   "language": "python",
   "name": "python3"
  },
  "language_info": {
   "codemirror_mode": {
    "name": "ipython",
    "version": 3
   },
   "file_extension": ".py",
   "mimetype": "text/x-python",
   "name": "python",
   "nbconvert_exporter": "python",
   "pygments_lexer": "ipython3",
   "version": "3.11.4"
  }
 },
 "nbformat": 4,
 "nbformat_minor": 5
}
